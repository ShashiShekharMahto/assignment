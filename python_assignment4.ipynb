{
 "cells": [
  {
   "cell_type": "markdown",
   "metadata": {},
   "source": [
    "#### 1.1 Write a Python Program(with class concepts) to find the area of the triangle using the below formula.  [area = (s*(s-a)*(s-b)*(s-c)) ** 0.5]"
   ]
  },
  {
   "cell_type": "code",
   "execution_count": 1,
   "metadata": {},
   "outputs": [
    {
     "name": "stdout",
     "output_type": "stream",
     "text": [
      "Enter the value of a : 4\n",
      "Enter the value of b : 5\n",
      "Enter the value of c : 6\n",
      "area of triange :  9.921567416492215\n"
     ]
    }
   ],
   "source": [
    "class area:\n",
    "    def __init__(self, a, b, c):\n",
    "        self.a = a\n",
    "        self.b = b\n",
    "        self.c = c\n",
    "\n",
    "class area_cal(area):\n",
    "    def __init__(self, a, b, c):\n",
    "        super(area_cal, self).__init__(a, b, c)\n",
    "        \n",
    "    def triangle_area(self):\n",
    "        s = (self.a + self.b + self.c)/2\n",
    "        return (s * (s - self.a) * (s - self.b) * (s - self.c)) ** 0.5\n",
    "\n",
    "a = int(input(\"Enter the value of a : \"))\n",
    "b = int(input(\"Enter the value of b : \"))\n",
    "c = int(input(\"Enter the value of c : \"))\n",
    "\n",
    "x = area_cal(a, b, c)\n",
    "print(\"area of triange : \",x.triangle_area())"
   ]
  },
  {
   "cell_type": "markdown",
   "metadata": {},
   "source": [
    "#### 1.2 Write a function filter_long_words() that takes a list of words and an integer n and returns the list of words that are longer than n."
   ]
  },
  {
   "cell_type": "code",
   "execution_count": 2,
   "metadata": {},
   "outputs": [
    {
     "name": "stdout",
     "output_type": "stream",
     "text": [
      "enter the words with space separtedabcd efg hijkl mn opqr s tuv wxyz\n",
      "enter the value of n : 2\n"
     ]
    },
    {
     "data": {
      "text/plain": [
       "['abcd', 'efg', 'hijkl', 'opqr', 'tuv', 'wxyz']"
      ]
     },
     "execution_count": 2,
     "metadata": {},
     "output_type": "execute_result"
    }
   ],
   "source": [
    "def filter_long_words(A, n):\n",
    "    b = []\n",
    "    for i in A:\n",
    "        if len(i) > n:\n",
    "            b.append(i)\n",
    "    \n",
    "    return b\n",
    "\n",
    "A = list(input(\"enter the words with space separted\").split(\" \"))\n",
    "n = int(input(\"enter the value of n : \"))\n",
    "filter_long_words(A, n)"
   ]
  },
  {
   "cell_type": "markdown",
   "metadata": {},
   "source": [
    "#### 2.1 Write a Python program using function concept that maps list of words into a list of integers representing the lengths of the corresponding words."
   ]
  },
  {
   "cell_type": "code",
   "execution_count": 3,
   "metadata": {},
   "outputs": [
    {
     "name": "stdout",
     "output_type": "stream",
     "text": [
      "[2, 4, 3]\n"
     ]
    }
   ],
   "source": [
    "a = ['ab', 'cder', 'efg']\n",
    "print(list(map(lambda x : len(x), a)))"
   ]
  },
  {
   "cell_type": "markdown",
   "metadata": {},
   "source": [
    "#### 2.2 Write a Python function which takes a character (i.e. a string of length 1) and returns True if it is a vowel, False otherwise."
   ]
  },
  {
   "cell_type": "code",
   "execution_count": 4,
   "metadata": {},
   "outputs": [
    {
     "name": "stdout",
     "output_type": "stream",
     "text": [
      "A\n",
      "True\n"
     ]
    }
   ],
   "source": [
    "def isvowel(s):\n",
    "    if s in x:\n",
    "        return True\n",
    "    else:\n",
    "        return False\n",
    "x = ['a', 'e', 'i', 'o', 'u', 'A', 'E', 'I', 'O', 'U']\n",
    "s = input()\n",
    "print(isvowel(s))"
   ]
  },
  {
   "cell_type": "code",
   "execution_count": null,
   "metadata": {},
   "outputs": [],
   "source": []
  }
 ],
 "metadata": {
  "kernelspec": {
   "display_name": "Python 3",
   "language": "python",
   "name": "python3"
  },
  "language_info": {
   "codemirror_mode": {
    "name": "ipython",
    "version": 3
   },
   "file_extension": ".py",
   "mimetype": "text/x-python",
   "name": "python",
   "nbconvert_exporter": "python",
   "pygments_lexer": "ipython3",
   "version": "3.7.3"
  }
 },
 "nbformat": 4,
 "nbformat_minor": 4
}
