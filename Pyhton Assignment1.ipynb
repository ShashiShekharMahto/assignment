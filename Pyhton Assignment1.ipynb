{
 "cells": [
  {
   "cell_type": "markdown",
   "metadata": {},
   "source": [
    "# Python Assignment 1"
   ]
  },
  {
   "cell_type": "code",
   "execution_count": 2,
   "metadata": {},
   "outputs": [
    {
     "name": "stdout",
     "output_type": "stream",
     "text": [
      "2002,2009,2016,2023,2037,2044,2051,2058,2072,2079,2086,2093,2107,2114,2121,2128,2142,2149,2156,2163,2177,2184,2191,2198,2212,2219,2226,2233,2247,2254,2261,2268,2282,2289,2296,2303,2317,2324,2331,2338,2352,2359,2366,2373,2387,2394,2401,2408,2422,2429,2436,2443,2457,2464,2471,2478,2492,2499,2506,2513,2527,2534,2541,2548,2562,2569,2576,2583,2597,2604,2611,2618,2632,2639,2646,2653,2667,2674,2681,2688,2702,2709,2716,2723,2737,2744,2751,2758,2772,2779,2786,2793,2807,2814,2821,2828,2842,2849,2856,2863,2877,2884,2891,2898,2912,2919,2926,2933,2947,2954,2961,2968,2982,2989,2996,3003,3017,3024,3031,3038,3052,3059,3066,3073,3087,3094,3101,3108,3122,3129,3136,3143,3157,3164,3171,3178,3192,3199,"
     ]
    }
   ],
   "source": [
    "# 1. Write a program which will find all such numbers which are divisible by 7 but are not a multiple of 5, between 2000 and 3200 (both included). The numbers obtained should be printed\n",
    "# in a comma-separated sequence on a single line.\n",
    "\n",
    "low = 2000\n",
    "max = 3200\n",
    "a = None\n",
    "\n",
    "#first number which is divisible by 7\n",
    "if(low %7 == 0):\n",
    "    a = low\n",
    "else:\n",
    "    a = low + 7 - low %7\n",
    "\n",
    "# loop for printing all number which is divisible by 7 but not by 5 in the range of 2000 to 3200 \n",
    "for i in range(a, max + 1, 7):\n",
    "    if(i % 35 != 0):\n",
    "        print(i, end=\",\")"
   ]
  },
  {
   "cell_type": "code",
   "execution_count": 3,
   "metadata": {},
   "outputs": [
    {
     "name": "stdout",
     "output_type": "stream",
     "text": [
      "Enter the first name: Shashi\n",
      "Enter the last name: Shekhar\n",
      "ihsahS   rahkehS\n"
     ]
    }
   ],
   "source": [
    "# 2. Write a Python program to accept the user's first and last name and then getting them \n",
    "#printed in the the reverse order with a space between first name and last name.\n",
    "\n",
    "\n",
    "first = input(\"Enter the first name: \")\n",
    "last = input(\"Enter the last name: \")\n",
    "print(first[-1::-1], \" \", last[-1::-1])"
   ]
  },
  {
   "cell_type": "code",
   "execution_count": 5,
   "metadata": {},
   "outputs": [
    {
     "name": "stdout",
     "output_type": "stream",
     "text": [
      "volume of a sphere with diameter 12 cm:  904.7786842338604\n"
     ]
    }
   ],
   "source": [
    "#3. Write a Python program to find the volume of a sphere with diameter 12 cm. (Formula: V=4/3 * π * r^3)\n",
    "\n",
    "from math import pi\n",
    "d = 12\n",
    "r = d / 2\n",
    "v = (4 * pi * (r ** 3))/ 3\n",
    "print(\"volume of a sphere with diameter 12 cm: \",v)"
   ]
  },
  {
   "cell_type": "code",
   "execution_count": null,
   "metadata": {},
   "outputs": [],
   "source": []
  }
 ],
 "metadata": {
  "kernelspec": {
   "display_name": "Python 3",
   "language": "python",
   "name": "python3"
  },
  "language_info": {
   "codemirror_mode": {
    "name": "ipython",
    "version": 3
   },
   "file_extension": ".py",
   "mimetype": "text/x-python",
   "name": "python",
   "nbconvert_exporter": "python",
   "pygments_lexer": "ipython3",
   "version": "3.7.3"
  }
 },
 "nbformat": 4,
 "nbformat_minor": 4
}
